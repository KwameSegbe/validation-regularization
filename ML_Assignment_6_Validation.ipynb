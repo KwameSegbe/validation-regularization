{
  "cells": [
    {
      "cell_type": "markdown",
      "source": [
        "# MACHINE LEARNING ASSIGNMENT\n",
        "# Assignment 6:  Validation and Regularization\n",
        "# Group Members: Francis Kwame Segbe and Anusha Reddy Singireddy"
      ],
      "metadata": {
        "id": "OhTSga--9kgt"
      }
    },
    {
      "cell_type": "markdown",
      "source": [
        "\n",
        "#Problem 1 (20 points)\n",
        "One of the applications of validation set is to select appropriate model param\u0002eters. In k-fold method you’ll partition data into k (10 for this assignment)\n",
        "randomly chosen subsets of equal size. One subset is used to validate the model\n",
        "trained using the remaining subsets. This process is repeated k times such that\n",
        "each subset is used exactly once for validation.\n",
        "In this problem will use validation sets to pick parameters for k-nearest\u0002neighbor (KNN) model. The data sets for this problem are healthcareTrain.csv\n",
        "and healthcareTest.csv.\n",
        "Note that you can use the built-in function for KNN, but you need to write\n",
        "your own code for cross-validation for this problem.\n",
        "\n"
      ],
      "metadata": {
        "id": "knWZGd7lAgx7"
      }
    },
    {
      "cell_type": "code",
      "source": [
        "import pandas as pd\n",
        "import random\n",
        "from sklearn.metrics import accuracy_score\n",
        "from sklearn.neighbors import KNeighborsClassifier\n",
        "import numpy as np\n",
        "from sklearn.preprocessing import StandardScaler\n",
        "from numpy.linalg import inv"
      ],
      "metadata": {
        "id": "6FcnLc7mRhAI"
      },
      "execution_count": 173,
      "outputs": []
    },
    {
      "cell_type": "code",
      "source": [
        "# Load the data\n",
        "np.random.seed(42)\n",
        "train_data = pd.read_csv('/content/healthcareTrain (1).csv')\n",
        "test_data = pd.read_csv('/content/healthcareTest (1).csv')"
      ],
      "metadata": {
        "id": "9MkVt7Wx9bii"
      },
      "execution_count": 174,
      "outputs": []
    },
    {
      "cell_type": "markdown",
      "source": [
        "1. (10 points) Create a KNN classifier model to predict the pdc-80-flag using\n",
        "the following continuous features “total-los”,“num-op”,“num-er”,“num\u0002ndc”,“pre-total-cost”, and “pre-CCI”. Use 10-fold cross validation to de\u0002termine which value of K produces the most accurate result from the range\n",
        "k = 31 to 101 with a step size of 2.\n"
      ],
      "metadata": {
        "id": "T0plcWB9gWN7"
      }
    },
    {
      "cell_type": "code",
      "source": [
        "# Extract the target variable and the continuous features\n",
        "target = \"pdc_80_flag\"\n",
        "features = [\"total_los\", \"num_op\", \"num_er\", \"num_ndc\", \"pre_total_cost\", \"pre_CCI\"]\n",
        "\n",
        "X_train = train_data[features]\n",
        "y_train = train_data[target]\n",
        "\n",
        "X_test = test_data[features]\n",
        "y_test = test_data[target]\n",
        "\n",
        "# Scaling both train and test set.\n",
        "scaler = StandardScaler()\n",
        "X_train_scaled = scaler.fit_transform(X_train)\n",
        "X_test_scaled = scaler.transform(X_test)"
      ],
      "metadata": {
        "id": "634pyxm49JDo"
      },
      "execution_count": 175,
      "outputs": []
    },
    {
      "cell_type": "code",
      "source": [
        "# Define function to perform k-fold cross-validation and return mean accuracy score\n",
        "def cross_val_knn(k):\n",
        "    random.seed(42)\n",
        "    accuracy_scores = []\n",
        "    fold_size = X_train_scaled.shape[0] // 10\n",
        "    \n",
        "    # Shuffle indices\n",
        "    indices = np.arange(X_train_scaled.shape[0])\n",
        "    np.random.shuffle(indices)\n",
        "    \n",
        "    # Loop through 10 folds\n",
        "    for i in range(10):\n",
        "        start = i * fold_size\n",
        "        end = (i+1) * fold_size\n",
        "        \n",
        "        # Define validation set for this fold\n",
        "        val_indices = indices[start:end]\n",
        "        X_val = X_train_scaled[val_indices]\n",
        "        y_val = y_train[val_indices]\n",
        "        \n",
        "        # Define training set for this fold\n",
        "        train_indices = np.concatenate([indices[:start], indices[end:]])\n",
        "        X_train_fold = X_train_scaled[train_indices]\n",
        "        y_train_fold = y_train[train_indices]\n",
        "        \n",
        "        # Train KNN model on training set and predict on validation set\n",
        "        knn = KNeighborsClassifier(n_neighbors=k)\n",
        "        knn.fit(X_train_fold, y_train_fold)\n",
        "        y_pred = knn.predict(X_val)\n",
        "        \n",
        "        # Calculate accuracy score for this fold\n",
        "        accuracy = np.mean(y_pred == y_val)\n",
        "        accuracy_scores.append(accuracy)\n",
        "    \n",
        "    # Return mean accuracy score across all folds\n",
        "    return np.mean(accuracy_scores)"
      ],
      "metadata": {
        "id": "h9-p3rDAMnHm"
      },
      "execution_count": 176,
      "outputs": []
    },
    {
      "cell_type": "code",
      "source": [
        "# Define range of k values to test\n",
        "k_values = list(range(31, 102, 2))\n",
        "\n",
        "# Create empty list to store mean accuracy scores for each k value\n",
        "accuracy_scores = []\n",
        "\n",
        "# Loop through k values and calculate mean accuracy score for each k\n",
        "for k in k_values:\n",
        "    accuracy_scores.append(cross_val_knn(k))\n",
        "\n",
        "# Find k value with highest mean accuracy score\n",
        "best_k = k_values[accuracy_scores.index(max(accuracy_scores))]\n",
        "print(\"The best value of k is:\", best_k)"
      ],
      "metadata": {
        "colab": {
          "base_uri": "https://localhost:8080/"
        },
        "id": "YVvLun5vRasx",
        "outputId": "10c73a3a-a946-429c-a830-f2c01fa94bfd"
      },
      "execution_count": 177,
      "outputs": [
        {
          "output_type": "stream",
          "name": "stdout",
          "text": [
            "The best value of k is: 33\n"
          ]
        }
      ]
    },
    {
      "cell_type": "code",
      "source": [
        "# Compute the mean accuracy score using cross-validation for the best value of k\n",
        "best_accuracy = cross_val_knn(best_k)\n",
        "\n",
        "# Print the accuracy score\n",
        "print(\"Accuracy score for k =\", best_k, \"is:\", best_accuracy)"
      ],
      "metadata": {
        "colab": {
          "base_uri": "https://localhost:8080/"
        },
        "id": "rRC6AvlFCdxW",
        "outputId": "d6d47a68-7a63-47fd-99fb-0c5c7bb4040f"
      },
      "execution_count": 178,
      "outputs": [
        {
          "output_type": "stream",
          "name": "stdout",
          "text": [
            "Accuracy score for k = 33 is: 0.6109489051094892\n"
          ]
        }
      ]
    },
    {
      "cell_type": "markdown",
      "source": [
        "2. (5 points) Plot the accuracy rate from your 10-fold cross validation vs. K."
      ],
      "metadata": {
        "id": "YmFAmDMDgfG7"
      }
    },
    {
      "cell_type": "code",
      "source": [
        "import matplotlib.pyplot as plt\n",
        "\n",
        "# Define range of k values to test\n",
        "k_values = list(range(31, 102, 2))\n",
        "\n",
        "# Calculate mean accuracy score for each k value\n",
        "accuracy_scores = [cross_val_knn(k) for k in k_values]\n",
        "\n",
        "# Plot accuracy scores vs. k values\n",
        "fig, ax = plt.subplots()\n",
        "ax.plot(k_values, accuracy_scores, color='blue', linestyle='-', marker='o')\n",
        "ax.set_xlabel('K')\n",
        "ax.set_ylabel('Accuracy')\n",
        "ax.set_title('Accuracy vs. K')\n",
        "ax.grid(True)\n",
        "plt.show()"
      ],
      "metadata": {
        "colab": {
          "base_uri": "https://localhost:8080/",
          "height": 295
        },
        "id": "tZ0pJR9vac1O",
        "outputId": "9a52c31d-cf28-46af-8004-7abec6b825f4"
      },
      "execution_count": 179,
      "outputs": [
        {
          "output_type": "display_data",
          "data": {
            "text/plain": [
              "<Figure size 432x288 with 1 Axes>"
            ],
            "image/png": "[encoded data removed]"
          },
          "metadata": {
            "needs_background": "light"
          }
        }
      ]
    },
    {
      "cell_type": "markdown",
      "source": [
        "3. (5 points) Use the best value of K to predict the pdc-80-flag for the test\n",
        "set. How does your validation error compare to test error?\n"
      ],
      "metadata": {
        "id": "iErgqve9goAS"
      }
    },
    {
      "cell_type": "code",
      "source": [
        "knn = KNeighborsClassifier(n_neighbors=37)\n",
        "knn.fit(X_train_scaled, y_train)\n",
        "y_pred = knn.predict(X_test_scaled)\n",
        "\n",
        "# Calculate validation error and test error\n",
        "val_error = 1 - np.mean(accuracy_scores)\n",
        "test_error = 1 - np.mean(y_pred == y_test)\n",
        "\n",
        "print(\"Validation error:\", val_error)\n",
        "print(\"Test error:\", test_error)"
      ],
      "metadata": {
        "colab": {
          "base_uri": "https://localhost:8080/"
        },
        "id": "u8pOC-I0azo1",
        "outputId": "4e12246a-f4ca-403b-f449-e09247793e3f"
      },
      "execution_count": 180,
      "outputs": [
        {
          "output_type": "stream",
          "name": "stdout",
          "text": [
            "Validation error: 0.4007502027575023\n",
            "Test error: 0.375\n"
          ]
        }
      ]
    },
    {
      "cell_type": "markdown",
      "source": [
        "The validation error and test error 40% and 37% respectively. Considering a general rule of 1% difference. This can be interpreted as a significant difference."
      ],
      "metadata": {
        "id": "VCfGkwlWew-6"
      }
    },
    {
      "cell_type": "markdown",
      "source": [
        "# Problem 2 (20 points)\n",
        "Consider a learning scenario where the goal is to learn the target function f(x) =\n",
        "sin(πx) for −1 ≤ x ≤ +1 from two points in the training sets. The two training\n",
        "points in R2 have a uniform distribution between -1 and +1. You will create two\n",
        "models in linear hypothesis set y = mx + b: 1) unregularized, 2) weight-decay\n",
        "regularized (use L2 regularization with λ = 0.1)."
      ],
      "metadata": {
        "id": "JxYGmB_mAVMd"
      }
    },
    {
      "cell_type": "code",
      "source": [
        "# Define the target function\n",
        "def f(x):\n",
        "    return np.sin(np.pi * x)\n",
        "\n",
        "# Set random seed \n",
        "np.random.seed(42)\n",
        "\n",
        "# Define the number of hypotheses to generate\n",
        "num_hypotheses = 10000\n",
        "\n",
        "# Generate random points for each hypothesis space\n",
        "x1, x2 = np.random.uniform(-1, 1, size=(2, num_hypotheses))\n",
        "y1, y2 = f(x1), f(x2)\n",
        "\n",
        "# Calculating unregularized.\n",
        "m = (y2 - y1) / (x2 - x1)\n",
        "b = y1 - m * x1\n",
        "avg_unreg1 = np.round(m.mean(), 3)\n",
        "avg_unreg2 = np.round(b.mean(), 3)\n",
        "print(f\"av_unregularized:{avg_unreg1}\")\n",
        "print(f\"av_unregularized:{avg_unreg2}\")\n",
        "\n"
      ],
      "metadata": {
        "colab": {
          "base_uri": "https://localhost:8080/"
        },
        "id": "3PFmpd8HK6jI",
        "outputId": "83ef2ec9-67fb-4cad-f0ac-609a3d470a92"
      },
      "execution_count": 181,
      "outputs": [
        {
          "output_type": "stream",
          "name": "stdout",
          "text": [
            "av_unregularized:0.786\n",
            "av_unregularized:-0.001\n"
          ]
        }
      ]
    },
    {
      "cell_type": "code",
      "source": [
        "#Calculating for regularized\n",
        "df_x = pd.DataFrame({'x1': x1, 'x2': x2})\n",
        "df_y = pd.DataFrame({'y1': y1, 'y2': y2})\n",
        "Ones = [1,1]\n",
        "I = np.eye(2)\n",
        "b_s = []\n",
        "m_s = []\n",
        "for i in range(len(x1)):\n",
        "    X = np.vstack((Ones,df_x.loc[i,:])).T\n",
        "    W = inv(X.T@X+0.1*I)@X.T@df_y.loc[i,:]\n",
        "    b_s.append(W[0])\n",
        "    m_s.append(W[1])\n",
        "avg_reg_1 = np.round(np.mean(m_s),3)\n",
        "avg_reg_2 = np.round(np.mean(b_s),3)\n",
        "print(f\"av_regularized: {avg_reg_1}\")\n",
        "print(f\"av_regularized: {avg_reg_2}\")"
      ],
      "metadata": {
        "colab": {
          "base_uri": "https://localhost:8080/"
        },
        "id": "g87QVq92bQdq",
        "outputId": "730bb89f-7f5d-47be-c137-b3c3de5c81c7"
      },
      "execution_count": 182,
      "outputs": [
        {
          "output_type": "stream",
          "name": "stdout",
          "text": [
            "av_regularized: 0.627\n",
            "av_regularized: -0.001\n"
          ]
        }
      ]
    },
    {
      "cell_type": "markdown",
      "source": [
        "2. (5 points) Find and report bias2\n",
        "for each mode"
      ],
      "metadata": {
        "id": "4CFhHSJy1M_v"
      }
    },
    {
      "cell_type": "code",
      "source": [
        "# Finding the bias^2 for unregularized version\n",
        "x_range = np.linspace(-1, 1, 300000)\n",
        "# Determine the values at x_range\n",
        "f_xs= []\n",
        "\n",
        "for x in x_range:\n",
        "    f_x = f(x)\n",
        "    f_xs.append(f_x)\n",
        "    \n",
        "def bar1(x):\n",
        "    return avg_unreg1*x + avg_unreg2\n",
        "\n",
        "bs1 = []\n",
        "for x in x_range:\n",
        "    gbar = bar1(x)\n",
        "    bs1.append(gbar)\n",
        "\n",
        "bias_sq = []\n",
        "for i in range(len(bs1)):\n",
        "    bias_sq.append((bs1[i] - f_xs[i])**2)\n",
        "un_reg_bias_2 = sum(bias_sq)/(300000-1)\n",
        "\n",
        "print(\"Unregularized bias^2:\",np.round(un_reg_bias_2,3))"
      ],
      "metadata": {
        "colab": {
          "base_uri": "https://localhost:8080/"
        },
        "id": "Ko8r25Noa-fR",
        "outputId": "5c0af9e5-5a0b-4930-834d-c46089e8e607"
      },
      "execution_count": 183,
      "outputs": [
        {
          "output_type": "stream",
          "name": "stdout",
          "text": [
            "Unregularized bias^2: 0.206\n"
          ]
        }
      ]
    },
    {
      "cell_type": "code",
      "source": [
        "# bias^2 for L2 regularization with lambda = 0.1\n",
        "# calculate g_bars at x_range\n",
        "def bar2(x):\n",
        "    return avg_reg_1*x + avg_reg_2\n",
        "\n",
        "bs2 = []\n",
        "for x in x_range:\n",
        "    gbar = bar2(x)\n",
        "    bs2.append(gbar)\n",
        "\n",
        "bias_sq = []\n",
        "for i in range(len(bs2)):\n",
        "    bias_sq.append((bs2[i] - f_xs[i])**2)\n",
        "reg_bias_2 = sum(bias_sq)/(300000-1)\n",
        "\n",
        "print(\"Regularized bias^2:\",np.round(reg_bias_2,3))"
      ],
      "metadata": {
        "colab": {
          "base_uri": "https://localhost:8080/"
        },
        "id": "0ZUY6k2x5BN2",
        "outputId": "bf705afe-9c01-423c-f090-59368045ebc0"
      },
      "execution_count": 184,
      "outputs": [
        {
          "output_type": "stream",
          "name": "stdout",
          "text": [
            "Regularized bias^2: 0.232\n"
          ]
        }
      ]
    },
    {
      "cell_type": "markdown",
      "source": [
        "3. (5 points) Find and report variance for each model"
      ],
      "metadata": {
        "id": "fJBofLmC1iG_"
      }
    },
    {
      "cell_type": "code",
      "source": [
        "# Define the range of x values\n",
        "x_range = np.linspace(-1, 1, 1000)\n",
        "\n",
        "# Calculate the average value of g(x) over the range of x values\n",
        "bs1 = np.array([bar1(x) for x in x_range])\n",
        "gbar_mean_1 = np.mean(bs1)\n",
        "\n",
        "# Calculate the variance of g(x) over the range of x values\n",
        "variances_1 = []\n",
        "for m_i, b_i in zip(m, b):\n",
        "    ys = m_i * x_range + b_i\n",
        "    vars_i = np.mean((ys - bs1) ** 2)\n",
        "    variances_1.append(vars_i)\n",
        "VAR_1 = round(np.mean(variances_1),3)\n",
        "\n",
        "print(f\"The variance of g(x) over the range [-1, 1] is {VAR_1:.3f}.\")"
      ],
      "metadata": {
        "colab": {
          "base_uri": "https://localhost:8080/"
        },
        "id": "n7wdydRBbsEG",
        "outputId": "fa29d005-ba21-40c3-ab23-84469f189b75"
      },
      "execution_count": 185,
      "outputs": [
        {
          "output_type": "stream",
          "name": "stdout",
          "text": [
            "The variance of g(x) over the range [-1, 1] is 1.667.\n"
          ]
        }
      ]
    },
    {
      "cell_type": "code",
      "source": [
        "\n",
        "# Define the range of x values\n",
        "x_range = np.linspace(-1, 1, 1000)\n",
        "\n",
        "# Calculate the average value of g(x) over the range of x values\n",
        "bs2 = np.array([bar2(x) for x in x_range])\n",
        "gbar_mean_2 = np.mean(bs2)\n",
        "\n",
        "# Calculate the variance of g(x) over the range of x values\n",
        "variances_2 = []\n",
        "for m_i, b_i in zip(m_s, b_s):\n",
        "    ys = m_i * x_range + b_i\n",
        "    vars_i = np.mean((ys - bs2) ** 2)\n",
        "    variances_2.append(vars_i)\n",
        "VAR_2 = np.mean(variances_2)\n",
        "\n",
        "print(f\"The variance of g(x) with regularization over the range [-1, 1] is {VAR_2:.3f}.\")"
      ],
      "metadata": {
        "colab": {
          "base_uri": "https://localhost:8080/"
        },
        "id": "pMwMuN-Y9zcD",
        "outputId": "0ca830cb-9594-4a69-ec01-9c615cbcd117"
      },
      "execution_count": 186,
      "outputs": [
        {
          "output_type": "stream",
          "name": "stdout",
          "text": [
            "The variance of g(x) with regularization over the range [-1, 1] is 0.330.\n"
          ]
        }
      ]
    },
    {
      "cell_type": "markdown",
      "source": [
        "4. (5 Points) For each case, plot ¯g(x) ±\n",
        "p\n",
        "var(x) along with ¯g(x) and target\n",
        "function f(x) = sin(πx) . Which model will you choose? Why? Round\n",
        "your answers to 3 decimal places"
      ],
      "metadata": {
        "id": "Lzan_SBw1rxR"
      }
    },
    {
      "cell_type": "code",
      "source": [
        "import matplotlib.pyplot as plt\n",
        "\n",
        "# Define the range of x values\n",
        "x = np.linspace(-1, 1, num=1000)\n",
        "\n",
        "# Calculate the upper and lower bounds of the confidence interval\n",
        "y1 = bs1 + np.sqrt(VAR_1)\n",
        "y2 = bs1 - np.sqrt(VAR_1)\n",
        "\n",
        "# Plot the true function f(x) in blue, the estimated function g(x) in black, and the confidence interval in red\n",
        "plt.plot(x, f(x), color='blue', label='f(x)')\n",
        "plt.plot(x, bs1, color='black', label='g(x)')\n",
        "plt.fill_between(x, y1, y2, color='red', alpha=0.2, label='g(x) ± √var(x) ')\n",
        "plt.legend()\n",
        "\n",
        "# Set the x and y axis labels and limits\n",
        "plt.xlabel('x')\n",
        "plt.ylabel('y')\n",
        "plt.ylim(-2, 2)\n",
        "\n",
        "# Show the plot\n",
        "plt.show()\n",
        "\n",
        "\n",
        "\n",
        "# Define the range of x values\n",
        "x = np.linspace(-1, 1, num=1000)\n",
        "\n",
        "# Calculate the upper and lower bounds of the confidence interval\n",
        "y1 = bs2 + np.sqrt(VAR_2)\n",
        "y2 = bs2 - np.sqrt(VAR_2)\n",
        "\n",
        "# Plot the true function f(x) in blue, the estimated function g(x) in black, and the confidence interval in red\n",
        "plt.plot(x, f(x), color='blue', label='f(x)')\n",
        "plt.plot(x, bs2, color='black', label='g(x)')\n",
        "plt.fill_between(x, y1, y2, color='red', alpha=0.2, label='g(x) ± √var(x) ')\n",
        "plt.legend()\n",
        "\n",
        "# Set the x and y axis labels and limits\n",
        "plt.xlabel('x')\n",
        "plt.ylabel('y')\n",
        "plt.ylim(-2, 2)\n",
        "\n",
        "# Show the plot\n",
        "plt.show()"
      ],
      "metadata": {
        "colab": {
          "base_uri": "https://localhost:8080/",
          "height": 549
        },
        "id": "xzsziLfe1oac",
        "outputId": "c6428b1f-64db-4730-e390-2f77c820127a"
      },
      "execution_count": 187,
      "outputs": [
        {
          "output_type": "display_data",
          "data": {
            "text/plain": [
              "<Figure size 432x288 with 1 Axes>"
            ],
            "image/png": "[encoded data removed]"
          },
          "metadata": {
            "needs_background": "light"
          }
        },
        {
          "output_type": "display_data",
          "data": {
            "text/plain": [
              "<Figure size 432x288 with 1 Axes>"
            ],
            "image/png": "[encoded data removed]"
          },
          "metadata": {
            "needs_background": "light"
          }
        }
      ]
    },
    {
      "cell_type": "markdown",
      "source": [
        "Which model will you choose? Why? Round\n",
        "your answers to 3 decimal places.\n",
        "1"
      ],
      "metadata": {
        "id": "MeDX3nJcd7Sx"
      }
    },
    {
      "cell_type": "code",
      "source": [
        "# Calculating MSE of Unregularized Hypothesis\n",
        "un_reg_mse = round(un_reg_bias_2 + VAR_1,3)\n",
        "un_reg_mse"
      ],
      "metadata": {
        "colab": {
          "base_uri": "https://localhost:8080/"
        },
        "id": "n7GtX-s8ADZQ",
        "outputId": "36fac343-108b-4b1d-c61f-93a89fe1a6e2"
      },
      "execution_count": 188,
      "outputs": [
        {
          "output_type": "execute_result",
          "data": {
            "text/plain": [
              "1.873"
            ]
          },
          "metadata": {},
          "execution_count": 188
        }
      ]
    },
    {
      "cell_type": "code",
      "source": [
        "reg_mse = round(reg_bias_2 + VAR_2,3)\n",
        "reg_mse"
      ],
      "metadata": {
        "colab": {
          "base_uri": "https://localhost:8080/"
        },
        "id": "ZzyvtmPqdKHp",
        "outputId": "65227c74-bd64-43b4-9094-b093eb69a609"
      },
      "execution_count": 189,
      "outputs": [
        {
          "output_type": "execute_result",
          "data": {
            "text/plain": [
              "0.562"
            ]
          },
          "metadata": {},
          "execution_count": 189
        }
      ]
    },
    {
      "cell_type": "markdown",
      "source": [
        "Based on the calculations above I will choose regularizedhypothesis due to the fact that, its Mean Squared Error (MSE) is lower compared to unregularized hypothesis."
      ],
      "metadata": {
        "id": "SqKx-7hleDgv"
      }
    },
    {
      "cell_type": "code",
      "source": [],
      "metadata": {
        "id": "82FtfjP_eXTf"
      },
      "execution_count": 189,
      "outputs": []
    }
  ],
  "metadata": {
    "colab": {
      "provenance": []
    },
    "kernelspec": {
      "display_name": "Python 3",
      "name": "python3"
    }
  },
  "nbformat": 4,
  "nbformat_minor": 0
}